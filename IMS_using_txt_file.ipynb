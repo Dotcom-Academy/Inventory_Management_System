{
 "cells": [
  {
   "cell_type": "markdown",
   "id": "d1732ff0",
   "metadata": {},
   "source": [
    "# Inventory Management with txt file"
   ]
  },
  {
   "cell_type": "markdown",
   "id": "e6491214",
   "metadata": {},
   "source": [
    "### Fetching raw data "
   ]
  },
  {
   "cell_type": "code",
   "execution_count": 10,
   "id": "a3202d70",
   "metadata": {},
   "outputs": [
    {
     "data": {
      "text/plain": [
       "['1001,Coke,50,100',\n",
       " '1002,Biscuit,10,195',\n",
       " '1003,Orio,25,85',\n",
       " '1004,Dairymilk,100,461',\n",
       " '1005,kinderJoy,40,600']"
      ]
     },
     "execution_count": 10,
     "metadata": {},
     "output_type": "execute_result"
    }
   ],
   "source": [
    "op = open(\"product.txt\",'r')\n",
    "pro_lst = op.read()\n",
    "op.close()\n",
    "#print(pro_lst)\n",
    "pro_lst = pro_lst.split(\"\\n\")\n",
    "pro_lst"
   ]
  },
  {
   "cell_type": "markdown",
   "id": "3d12d739",
   "metadata": {},
   "source": [
    "### Purchase product"
   ]
  },
  {
   "cell_type": "code",
   "execution_count": 11,
   "id": "f8450782",
   "metadata": {},
   "outputs": [
    {
     "name": "stdout",
     "output_type": "stream",
     "text": [
      "Enter a product id: 1003\n",
      "Enter a product quantity: 6\n",
      "***********************\n",
      "Product id : 1003\n",
      "Product Name : Orio\n",
      "Product Price : 25\n",
      "Product quantity : 6\n",
      "------------------------\n",
      "\tTotal Amaount:  150\n",
      "***********************\n"
     ]
    }
   ],
   "source": [
    "pr_id = input(\"Enter a product id: \")\n",
    "pr_qn = int(input(\"Enter a product quantity: \"))\n",
    "\n",
    "for ele in pro_lst:\n",
    "    ele = ele.split(\",\")\n",
    "    if (pr_id == ele[0]):\n",
    "        print(\"***********************\")\n",
    "        print(\"Product id :\",ele[0])\n",
    "        print(\"Product Name :\",ele[1])\n",
    "        print(\"Product Price :\",ele[2])\n",
    "        print(\"Product quantity :\",pr_qn)\n",
    "        print(\"------------------------\")\n",
    "        print(\"\\tTotal Amaount: \",int(ele[2]) * pr_qn)\n",
    "        print(\"***********************\")"
   ]
  },
  {
   "cell_type": "markdown",
   "id": "a1b4ff7c",
   "metadata": {},
   "source": [
    "### update product data after purchasing"
   ]
  },
  {
   "cell_type": "code",
   "execution_count": 12,
   "id": "c03d99dd",
   "metadata": {},
   "outputs": [
    {
     "data": {
      "text/plain": [
       "['1001,Coke,50,100\\n',\n",
       " '1002,Biscuit,10,195\\n',\n",
       " '1003,Orio,25,79\\n',\n",
       " '1004,Dairymilk,100,461\\n',\n",
       " '1005,kinderJoy,40,600']"
      ]
     },
     "execution_count": 12,
     "metadata": {},
     "output_type": "execute_result"
    }
   ],
   "source": [
    "new_pro = []\n",
    "for ele in pro_lst:\n",
    "    ele = ele.split(\",\")\n",
    "    if (pr_id == ele[0]):\n",
    "        ele[3] = str(int(ele[3]) - pr_qn)\n",
    "    \n",
    "    new_pro.append(ele[0] +\",\"+ ele[1] +\",\"+ ele[2] +\",\"+ ele[3] +\"\\n\")\n",
    "\n",
    "new_pro[-1] = new_pro[-1][:-1]\n",
    "new_pro"
   ]
  },
  {
   "cell_type": "markdown",
   "id": "2e9bc81d",
   "metadata": {},
   "source": [
    "### Update database (product.txt) "
   ]
  },
  {
   "cell_type": "code",
   "execution_count": 13,
   "id": "d5b05b3f",
   "metadata": {},
   "outputs": [],
   "source": [
    "op = open(\"product.txt\",'w')\n",
    "op.writelines(new_pro)\n",
    "op.close()"
   ]
  },
  {
   "cell_type": "code",
   "execution_count": null,
   "id": "b9bfdb6b",
   "metadata": {},
   "outputs": [],
   "source": []
  }
 ],
 "metadata": {
  "kernelspec": {
   "display_name": "Python 3 (ipykernel)",
   "language": "python",
   "name": "python3"
  },
  "language_info": {
   "codemirror_mode": {
    "name": "ipython",
    "version": 3
   },
   "file_extension": ".py",
   "mimetype": "text/x-python",
   "name": "python",
   "nbconvert_exporter": "python",
   "pygments_lexer": "ipython3",
   "version": "3.9.7"
  }
 },
 "nbformat": 4,
 "nbformat_minor": 5
}
