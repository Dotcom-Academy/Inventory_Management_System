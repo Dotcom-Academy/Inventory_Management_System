{
 "cells": [
  {
   "cell_type": "markdown",
   "id": "acf4ca2b",
   "metadata": {},
   "source": [
    "# Inventory Management System with Json"
   ]
  },
  {
   "cell_type": "code",
   "execution_count": 22,
   "id": "efca409a",
   "metadata": {},
   "outputs": [
    {
     "name": "stdout",
     "output_type": "stream",
     "text": [
      "<class 'dict'>\n",
      "{'C': {'F_1': 'Intelj_idea', 'F_2': 'Android_Studio', 'F_3': 'Net_Beans'}, 'C++': {'F_1': 'Intelj_idea', 'F_2': 'Android_Studio', 'F_3': 'Net_Beans'}, 'Python': {'F_1': 'Intelj_idea', 'F_2': 'Android_Studio', 'F_3': 'Net_Beans'}, 'java': {'F_1': 'Intelj_idea', 'F_2': 'Android_Studio', 'F_3': 'Net_Beans'}}\n"
     ]
    }
   ],
   "source": [
    "record = {'C':{'F_1':\"Intelj_idea\",'F_2':\"Android_Studio\",'F_3':\"Net_Beans\"},\n",
    "\n",
    "\t\t\t'C++':{'F_1':\"Intelj_idea\",'F_2':\"Android_Studio\",'F_3':\"Net_Beans\"},\n",
    "\n",
    "\t\t\t'Python':{'F_1':\"Intelj_idea\",'F_2':\"Android_Studio\",'F_3':\"Net_Beans\"},\n",
    "\n",
    "\t\t\t'java':{'F_1':\"Intelj_idea\",'F_2':\"Android_Studio\",'F_3':\"Net_Beans\"}}\n",
    "\n",
    "print(type(record))\n",
    "print(record)"
   ]
  },
  {
   "cell_type": "markdown",
   "id": "6a8a1e1d",
   "metadata": {},
   "source": [
    "### Dictionary to Json"
   ]
  },
  {
   "cell_type": "code",
   "execution_count": 23,
   "id": "dcda2714",
   "metadata": {},
   "outputs": [
    {
     "name": "stdout",
     "output_type": "stream",
     "text": [
      "<class 'str'>\n",
      "{\n",
      " \"C\": {\n",
      "  \"F_1\": \"Intelj_idea\",\n",
      "  \"F_2\": \"Android_Studio\",\n",
      "  \"F_3\": \"Net_Beans\"\n",
      " },\n",
      " \"C++\": {\n",
      "  \"F_1\": \"Intelj_idea\",\n",
      "  \"F_2\": \"Android_Studio\",\n",
      "  \"F_3\": \"Net_Beans\"\n",
      " },\n",
      " \"Python\": {\n",
      "  \"F_1\": \"Intelj_idea\",\n",
      "  \"F_2\": \"Android_Studio\",\n",
      "  \"F_3\": \"Net_Beans\"\n",
      " },\n",
      " \"java\": {\n",
      "  \"F_1\": \"Intelj_idea\",\n",
      "  \"F_2\": \"Android_Studio\",\n",
      "  \"F_3\": \"Net_Beans\"\n",
      " }\n",
      "}\n"
     ]
    }
   ],
   "source": [
    "import json  #java script object notation\n",
    "\n",
    "js = json.dumps(record,indent=1)\n",
    "print(type(js))\n",
    "print(js)\n"
   ]
  },
  {
   "cell_type": "markdown",
   "id": "e75b337c",
   "metadata": {},
   "source": [
    "### Json to Dictionary"
   ]
  },
  {
   "cell_type": "code",
   "execution_count": 25,
   "id": "083f4912",
   "metadata": {},
   "outputs": [
    {
     "data": {
      "text/plain": [
       "dict"
      ]
     },
     "execution_count": 25,
     "metadata": {},
     "output_type": "execute_result"
    }
   ],
   "source": [
    "record_1= json.loads(js)\n",
    "type(record_1)"
   ]
  },
  {
   "cell_type": "markdown",
   "id": "c9605749",
   "metadata": {},
   "source": [
    "## Fetching raw data from product.json"
   ]
  },
  {
   "cell_type": "code",
   "execution_count": 58,
   "id": "c166083c",
   "metadata": {},
   "outputs": [
    {
     "data": {
      "text/plain": [
       "{'1001': {'name': 'Choco Cake', 'pr': 29, 'qn': 100},\n",
       " '1002': {'name': 'Milk Cake', 'pr': 800, 'qn': 70},\n",
       " '1003': {'name': 'Drink', 'pr': 85, 'qn': 100},\n",
       " '1004': {'name': 'Candy', 'pr': 5, 'qn': 1000},\n",
       " '1005': {'name': 'Pen', 'pr': 20, 'qn': 100},\n",
       " '1006': {'name': 'Phone', 'pr': 50000, 'qn': 10},\n",
       " '1007': {'name': 'Mic', 'pr': 1500, 'qn': 0},\n",
       " '1008': {'name': 'Case', 'pr': 599, 'qn': 5},\n",
       " '1009': {'name': 'Keyboard', 'pr': 1999, 'qn': 10},\n",
       " '1020': {'name': 'input', 'pr': 'input', 'qn': 'input'}}"
      ]
     },
     "execution_count": 58,
     "metadata": {},
     "output_type": "execute_result"
    }
   ],
   "source": [
    "op = open(\"product.json\",'r')\n",
    "pro = op.read()\n",
    "op.close()\n",
    "\n",
    "pro = json.loads(pro)\n",
    "pro"
   ]
  },
  {
   "cell_type": "markdown",
   "id": "dce43076",
   "metadata": {},
   "source": [
    "### add product to dict"
   ]
  },
  {
   "cell_type": "code",
   "execution_count": 53,
   "id": "b47aaed1",
   "metadata": {},
   "outputs": [
    {
     "data": {
      "text/plain": [
       "{'1001': {'name': 'Choco Cake', 'pr': 29, 'qn': 100},\n",
       " '1002': {'name': 'Milk Cake', 'pr': 800, 'qn': 100},\n",
       " '1003': {'name': 'Drink', 'pr': 85, 'qn': 100},\n",
       " '1004': {'name': 'Candy', 'pr': 5, 'qn': 1000},\n",
       " '1005': {'name': 'Pen', 'pr': 20, 'qn': 100},\n",
       " '1006': {'name': 'Phone', 'pr': 50000, 'qn': 10},\n",
       " '1007': {'name': 'Mic', 'pr': 1500, 'qn': 0},\n",
       " '1008': {'name': 'Case', 'pr': 599, 'qn': 5},\n",
       " '1009': {'name': 'Keyboard', 'pr': 1999, 'qn': 10},\n",
       " '1020': {'name': 'input', 'pr': 'input', 'qn': 'input'}}"
      ]
     },
     "execution_count": 53,
     "metadata": {},
     "output_type": "execute_result"
    }
   ],
   "source": [
    "pro['1020'] = {'name': 'input', 'pr': \"input\", 'qn': \"input\"}\n",
    "pro"
   ]
  },
  {
   "cell_type": "markdown",
   "id": "5e187a21",
   "metadata": {},
   "source": [
    "### update quantity after parchase"
   ]
  },
  {
   "cell_type": "code",
   "execution_count": 54,
   "id": "b02eaaaf",
   "metadata": {},
   "outputs": [],
   "source": [
    "pro['1002']['qn'] = pro['1002']['qn'] - 30"
   ]
  },
  {
   "cell_type": "code",
   "execution_count": 56,
   "id": "11969e6f",
   "metadata": {},
   "outputs": [
    {
     "data": {
      "text/plain": [
       "{'1001': {'name': 'Choco Cake', 'pr': 29, 'qn': 100},\n",
       " '1002': {'name': 'Milk Cake', 'pr': 800, 'qn': 70},\n",
       " '1003': {'name': 'Drink', 'pr': 85, 'qn': 100},\n",
       " '1004': {'name': 'Candy', 'pr': 5, 'qn': 1000},\n",
       " '1005': {'name': 'Pen', 'pr': 20, 'qn': 100},\n",
       " '1006': {'name': 'Phone', 'pr': 50000, 'qn': 10},\n",
       " '1007': {'name': 'Mic', 'pr': 1500, 'qn': 0},\n",
       " '1008': {'name': 'Case', 'pr': 599, 'qn': 5},\n",
       " '1009': {'name': 'Keyboard', 'pr': 1999, 'qn': 10},\n",
       " '1020': {'name': 'input', 'pr': 'input', 'qn': 'input'}}"
      ]
     },
     "execution_count": 56,
     "metadata": {},
     "output_type": "execute_result"
    }
   ],
   "source": [
    "pro"
   ]
  },
  {
   "cell_type": "markdown",
   "id": "6ecac911",
   "metadata": {},
   "source": [
    "### Update  database (product.json)"
   ]
  },
  {
   "cell_type": "code",
   "execution_count": 57,
   "id": "a8354c97",
   "metadata": {},
   "outputs": [],
   "source": [
    "js = json.dumps(pro,indent=1)\n",
    "op = open(\"product.json\",'w')\n",
    "pro = op.write(js)\n",
    "op.close()\n",
    "\n"
   ]
  }
 ],
 "metadata": {
  "kernelspec": {
   "display_name": "Python 3 (ipykernel)",
   "language": "python",
   "name": "python3"
  },
  "language_info": {
   "codemirror_mode": {
    "name": "ipython",
    "version": 3
   },
   "file_extension": ".py",
   "mimetype": "text/x-python",
   "name": "python",
   "nbconvert_exporter": "python",
   "pygments_lexer": "ipython3",
   "version": "3.9.7"
  }
 },
 "nbformat": 4,
 "nbformat_minor": 5
}
